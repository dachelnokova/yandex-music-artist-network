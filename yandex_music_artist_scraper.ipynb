{
 "cells": [
  {
   "cell_type": "markdown",
   "metadata": {},
   "source": [
    "## Парсер Яндекс Музыки"
   ]
  },
  {
   "cell_type": "code",
   "execution_count": null,
   "metadata": {
    "colab": {
     "base_uri": "https://localhost:8080/"
    },
    "id": "MFtg74w5HYqE",
    "outputId": "e8a5c787-4e51-4260-8763-02990502510d"
   },
   "outputs": [],
   "source": [
    "#pip install requests beautifulsoup4"
   ]
  },
  {
   "cell_type": "markdown",
   "metadata": {},
   "source": [
    "* get_image_url(artist_image_element):  \n",
    "Извлекает URL изображения артиста из HTML-элемента. Преобразует исходный URL в формат, который возвращает изображение размером 200x200 пикселей.  \n",
    "* get_similar(url):  \n",
    "Получает информацию об артисте и списке похожих артистов с заданной страницы Яндекс.Музыки. Извлекает имя артиста, URL изображения, ID и аналогичную информацию для похожих артистов.  \n",
    "* get_artist_urls_from_genre_page(genre_url):  \n",
    "Извлекает URL-адреса всех артистов с заданной страницы жанра на Яндекс.Музыке. Формирует URL для страницы \"похожие артисты\" каждого исполнителя.  \n",
    "* Основной блок кода:  \n",
    "Определяет список URL-адресов страниц жанров для обработки. Затем проходит по каждому URL, получает список артистов, собирает данные о каждом артисте и его похожих исполнителях, и сохраняет эту информацию в файл. Избегает дублирования данных и добавляет случайные задержки между запросами.  "
   ]
  },
  {
   "cell_type": "code",
   "execution_count": 11,
   "metadata": {
    "colab": {
     "base_uri": "https://localhost:8080/"
    },
    "id": "Lr5k41VR5WaS",
    "outputId": "c0d288aa-81d3-4a45-ed60-bfc42cfe7756"
   },
   "outputs": [],
   "source": [
    "import requests\n",
    "from bs4 import BeautifulSoup\n",
    "import random\n",
    "import time\n",
    "\n",
    "def get_image_url(artist_image_element):\n",
    "    if artist_image_element and 'src' in artist_image_element.attrs:\n",
    "        parts = artist_image_element['src'].split('/get-music-content/')\n",
    "        if len(parts) > 1 and len(parts[1].split('/')) >= 2:\n",
    "            artist_id, prefix = parts[1].split('/')[0:2]\n",
    "            return f'https://avatars.yandex.net/get-music-content/{artist_id}/{prefix}/200x200'\n",
    "    return None\n",
    "\n",
    "\n",
    "def get_similar(url):\n",
    "    headers = {\n",
    "        'User-Agent': 'Mozilla/5.0 (Windows NT 10.0; Win64; x64) AppleWebKit/537.36 (KHTML, like Gecko) Chrome/91.0.4472.124 Safari/537.36'\n",
    "    }\n",
    "    response = requests.get(url, headers=headers)\n",
    "    soup = BeautifulSoup(response.text, 'html.parser')\n",
    "\n",
    "    artist_name_element = soup.find('h1', class_='page-artist__title')\n",
    "    if not artist_name_element:\n",
    "        print(\"капча\")\n",
    "        return None\n",
    "\n",
    "    artist_name = artist_name_element.text.strip()\n",
    "    artist_image_element = soup.find('div', class_='artist-pics').find('img', class_='artist-pics__pic')\n",
    "    artist_image_url = get_image_url(artist_image_element)\n",
    "    artist_id = url.split('/artist/')[1].split('/')[0]\n",
    "\n",
    "    similar_artists = []\n",
    "    similar_artists_block = soup.find('div', class_='page-artist__artists')\n",
    "    if similar_artists_block:\n",
    "        for artist_element in similar_artists_block.find_all('div', class_='artist__content'):\n",
    "            similar_artist_name = artist_element.find('div', class_='artist__name').text.strip()\n",
    "            similar_artist_image_element = artist_element.find('div', class_='artist__cover').find('img', class_='artist-pics__pic')\n",
    "            similar_artist_image_url = get_image_url(similar_artist_image_element)\n",
    "\n",
    "            similar_artist_link = artist_element.find('a', class_='d-link', href=True)\n",
    "            similar_artist_id = similar_artist_link['href'].split('/artist/')[1].split('/')[0] if similar_artist_link else None\n",
    "\n",
    "            similar_artists.append(\n",
    "                {\"artist_name\": similar_artist_name, \"artist_image_url\": similar_artist_image_url, \"artist_id\": similar_artist_id}\n",
    "            )\n",
    "\n",
    "    artist_data = {\n",
    "        \"artist_name\": artist_name,\n",
    "        \"artist_image_url\": artist_image_url,\n",
    "        \"artist_id\": artist_id,\n",
    "        \"similar_artists\": similar_artists\n",
    "    }\n",
    "    return artist_data\n",
    "\n",
    "\n",
    "def get_artist_urls_from_genre_page(genre_url):\n",
    "    headers = {\n",
    "        'User-Agent': 'Mozilla/5.0 (Macintosh; Intel Mac OS X 10_15_7) AppleWebKit/537.36 (KHTML, like Gecko) Chrome/91.0.4472.124 Safari/537.36'\n",
    "    }\n",
    "    response = requests.get(genre_url, headers=headers)\n",
    "    soup = BeautifulSoup(response.text, 'html.parser')\n",
    "\n",
    "    artist_urls = []\n",
    "    artist_elements = soup.find_all('a', class_='d-link deco-link', href=True)\n",
    "    for artist_element in artist_elements:\n",
    "        href = artist_element['href']\n",
    "        if '/artist/' in href:\n",
    "            artist_id = href.split('/artist/')[1].split('/')[0]\n",
    "            similar_artist_url = f'https://music.yandex.ru/artist/{artist_id}/similar'\n",
    "            artist_urls.append(similar_artist_url)\n",
    "    return artist_urls\n",
    "\n",
    "\n",
    "genre_urls = [\n",
    "    'https://music.yandex.ru/genre/русский%20рок/artists?page=1',\n",
    "    'https://music.yandex.ru/genre/русский%20рок/artists?page=2',\n",
    "    'https://music.yandex.ru/genre/русский%20рок/artists?page=3',\n",
    "\n",
    "# ссылки, откуда надо парсить\n",
    "    \n",
    "]\n",
    "\n",
    "with open('artist_data.txt', 'a+', encoding='utf-8') as file:\n",
    "    for genre_url in genre_urls:\n",
    "        artist_urls = get_artist_urls_from_genre_page(genre_url)\n",
    "        for artist_url in artist_urls:\n",
    "            artist_data = get_similar(artist_url)\n",
    "            if artist_data:\n",
    "                artist_id = artist_data['artist_id']\n",
    "\n",
    "                file.seek(0)\n",
    "\n",
    "                already_exists = False\n",
    "                for line in file:\n",
    "                    line_data = eval(line)\n",
    "                    if line_data['artist_id'] == artist_id:\n",
    "                        already_exists = True\n",
    "                        break\n",
    "\n",
    "                if not already_exists:\n",
    "                    file.write(str(artist_data) + '\\n')\n",
    "                    print(artist_data)\n",
    "                    print(\"-\" * 20)\n",
    "\n",
    "                time.sleep(random.uniform(5, 10))"
   ]
  },
  {
   "cell_type": "markdown",
   "metadata": {},
   "source": [
    "## Пример"
   ]
  },
  {
   "cell_type": "code",
   "execution_count": 8,
   "metadata": {},
   "outputs": [
    {
     "name": "stdout",
     "output_type": "stream",
     "text": [
      "{'artist_name': 'Dino MC47', 'artist_image_url': 'https://avatars.yandex.net/get-music-content/5853241/3a95d451.p.41119/200x200', 'artist_id': '41119', 'similar_artists': [{'artist_name': 'ST1M', 'artist_image_url': 'https://avatars.yandex.net/get-music-content/9867886/801e1546.p.168660/200x200', 'artist_id': '168660'}, {'artist_name': 'Лигалайз', 'artist_image_url': 'https://avatars.yandex.net/get-music-content/3318009/06d55023.p.41186/200x200', 'artist_id': '41186'}, {'artist_name': 'Руставели', 'artist_image_url': 'https://avatars.yandex.net/get-music-content/117546/c3a0319b.p.233942/200x200', 'artist_id': '233942'}, {'artist_name': 'NTL', 'artist_image_url': 'https://avatars.yandex.net/get-music-content/5502420/af701718.p.4150953/200x200', 'artist_id': '4150953'}, {'artist_name': 'Shot', 'artist_image_url': 'https://avatars.yandex.net/get-music-content/6021799/80922bfe.a.22285044-1/200x200', 'artist_id': '2751847'}, {'artist_name': 'Johnyboy', 'artist_image_url': 'https://avatars.yandex.net/get-music-content/2355477/6e0cc9be.p.838736/200x200', 'artist_id': '838736'}, {'artist_name': 'Дима Карташов', 'artist_image_url': 'https://avatars.yandex.net/get-music-content/42108/3e66cbfe.p.2643983/200x200', 'artist_id': '2643983'}, {'artist_name': 'МАВАШИ group', 'artist_image_url': 'https://avatars.yandex.net/get-music-content/5502420/ddab3b86.p.1210772/200x200', 'artist_id': '1210772'}]}\n"
     ]
    }
   ],
   "source": [
    "artist_data = get_similar(\"https://music.yandex.ru/artist/41119\")\n",
    "if artist_data:\n",
    "    print(str(artist_data))"
   ]
  },
  {
   "cell_type": "markdown",
   "metadata": {},
   "source": [
    "## Структура сайта"
   ]
  },
  {
   "cell_type": "code",
   "execution_count": 1,
   "metadata": {
    "colab": {
     "base_uri": "https://localhost:8080/"
    },
    "id": "OsOHK5dhIWp6",
    "outputId": "6a7eea73-8cb9-490b-8f3f-9cf1a0301f19",
    "scrolled": true
   },
   "outputs": [],
   "source": [
    "# def fetch_page_html(url):\n",
    "#     headers = {\n",
    "#         'User-Agent': 'Mozilla/5.0 (Windows NT 10.0; Win64; x64) AppleWebKit/537.36 (KHTML, like Gecko) Chrome/91.0.4472.124 Safari/537.36'\n",
    "#     }\n",
    "\n",
    "#     response = requests.get(url, headers=headers)\n",
    "#     if response.status_code == 200:\n",
    "#         return response.text\n",
    "#     else:\n",
    "#         raise Exception(f\"Failed {url}, status code {response.status_code}\")\n",
    "\n",
    "# def analyze_html_structure(html):\n",
    "#     soup = BeautifulSoup(html, 'html.parser')\n",
    "#     print(soup.prettify())\n",
    "\n",
    "#url = 'https://music.yandex.ru/artist/41191/similar'\n",
    "#html = fetch_page_html(url)\n",
    "#analyze_html_structure(html)"
   ]
  },
  {
   "cell_type": "code",
   "execution_count": 6,
   "metadata": {
    "colab": {
     "base_uri": "https://localhost:8080/"
    },
    "id": "gIv76e6p1T74",
    "outputId": "26d9bfb9-65f1-4185-f1f7-44a88f6df00f",
    "scrolled": true
   },
   "outputs": [],
   "source": [
    "#url = 'https://music.yandex.ru/genre/местная%20инди-музыка/artists'\n",
    "#html = fetch_page_html(url)\n",
    "#analyze_html_structure(html)\n"
   ]
  },
  {
   "cell_type": "code",
   "execution_count": null,
   "metadata": {
    "id": "sA6_cP6lFJMN"
   },
   "outputs": [],
   "source": [
    "          # <div class=\"artist__name deco-typo typo-main\" title=\"Монеточка\">\n",
    "          #  <span class=\"d-artists d-artists__expanded\" data-b=\"\">\n",
    "          #   <a class=\"d-link deco-link\" data-b=\"\" href=\"/artist/4623000\" title=\"Монеточка\">\n",
    "          #    Монеточка\n",
    "          #   </a>\n",
    "          #  </span>\n",
    "          # </div>"
   ]
  },
  {
   "cell_type": "code",
   "execution_count": null,
   "metadata": {},
   "outputs": [],
   "source": [
    "# спарсено в artist_data.txt\n",
    "--- рок\n",
    "    'https://music.yandex.ru/genre/русский%20рок/artists',\n",
    "    'https://music.yandex.ru/genre/русский%20рок/artists?page=1',\n",
    "    'https://music.yandex.ru/genre/русский%20рок/artists?page=2',\n",
    "    'https://music.yandex.ru/genre/русский%20рок/artists?page=3',\n",
    "    'https://music.yandex.ru/genre/русский%20рок/artists?page=4',\n",
    "    'https://music.yandex.ru/genre/русский%20рок/artists?page=5',\n",
    "    'https://music.yandex.ru/genre/русский%20рок/artists?page=6',\n",
    "    'https://music.yandex.ru/genre/русский%20рок/artists?page=7'\n",
    "    'https://music.yandex.ru/genre/русский%20рок/artists?page=8',\n",
    "    'https://music.yandex.ru/genre/русский%20рок/artists?page=9',\n",
    "    'https://music.yandex.ru/genre/русский%20рок/artists?page=10',\n",
    "    'https://music.yandex.ru/genre/русский%20рок/artists?page=11',\n",
    "    'https://music.yandex.ru/genre/русский%20рок/artists?page=12',\n",
    "    'https://music.yandex.ru/genre/русский%20рок/artists?page=13',\n",
    "    'https://music.yandex.ru/genre/русский%20рок/artists?page=14',\n",
    "    \n",
    "\n",
    "--- инди\n",
    "    'https://music.yandex.ru/genre/местная%20инди-музыка/artists',\n",
    "    'https://music.yandex.ru/genre/местная%20инди-музыка/artists?page=1',\n",
    "   'https://music.yandex.ru/genre/местная%20инди-музыка/artists?page=2',\n",
    "   'https://music.yandex.ru/genre/местная%20инди-музыка/artists?page=3',\n",
    "   'https://music.yandex.ru/genre/местная%20инди-музыка/artists?page=4',\n",
    "   'https://music.yandex.ru/genre/местная%20инди-музыка/artists?page=5',\n",
    "   'https://music.yandex.ru/genre/местная%20инди-музыка/artists?page=6',\n",
    "   'https://music.yandex.ru/genre/местная%20инди-музыка/artists?page=7'\n",
    "    'https://music.yandex.ru/genre/местная%20инди-музыка/artists?page=8',\n",
    "    'https://music.yandex.ru/genre/местная%20инди-музыка/artists?page=9',\n",
    "    'https://music.yandex.ru/genre/местная%20инди-музыка/artists?page=10',\n",
    "    'https://music.yandex.ru/genre/местная%20инди-музыка/artists?page=11',\n",
    "    'https://music.yandex.ru/genre/местная%20инди-музыка/artists?page=12',\n",
    "    'https://music.yandex.ru/genre/местная%20инди-музыка/artists?page=13',\n",
    "    'https://music.yandex.ru/genre/местная%20инди-музыка/artists?page=14'\n",
    "\n",
    "\n",
    "--- поп\n",
    "    'https://music.yandex.ru/genre/русская%20поп-музыка/artists',\n",
    "    'https://music.yandex.ru/genre/русская%20поп-музыка/artists?page=1',\n",
    "    'https://music.yandex.ru/genre/русская%20поп-музыка/artists?page=2',\n",
    "    'https://music.yandex.ru/genre/русская%20поп-музыка/artists?page=3',\n",
    "    'https://music.yandex.ru/genre/русская%20поп-музыка/artists?page=4',\n",
    "    'https://music.yandex.ru/genre/русская%20поп-музыка/artists?page=5',\n",
    "    'https://music.yandex.ru/genre/русская%20поп-музыка/artists?page=6',\n",
    "    'https://music.yandex.ru/genre/русская%20поп-музыка/artists?page=7',\n",
    "    'https://music.yandex.ru/genre/русская%20поп-музыка/artists?page=8',\n",
    "    'https://music.yandex.ru/genre/русская%20поп-музыка/artists?page=9',\n",
    "    'https://music.yandex.ru/genre/русская%20поп-музыка/artists?page=10',\n",
    "    'https://music.yandex.ru/genre/русская%20поп-музыка/artists?page=11',\n",
    "    'https://music.yandex.ru/genre/русская%20поп-музыка/artists?page=12',\n",
    "    'https://music.yandex.ru/genre/русская%20поп-музыка/artists?page=13',\n",
    "    'https://music.yandex.ru/genre/русская%20поп-музыка/artists?page=14'\n",
    "\n",
    "--- рэп\n",
    "    'https://music.yandex.ru/genre/русский%20рэп/artists',\n",
    "    'https://music.yandex.ru/genre/русский%20рэп/artists?page=1',\n",
    "    'https://music.yandex.ru/genre/русский%20рэп/artists?page=2',\n",
    "    'https://music.yandex.ru/genre/русский%20рэп/artists?page=3',\n",
    "    'https://music.yandex.ru/genre/русский%20рэп/artists?page=4',\n",
    "    'https://music.yandex.ru/genre/русский%20рэп/artists?page=5',\n",
    "    'https://music.yandex.ru/genre/русский%20рэп/artists?page=6',\n",
    "    'https://music.yandex.ru/genre/русский%20рэп/artists?page=7'\n",
    "    'https://music.yandex.ru/genre/русский%20рэп/artists?page=8',\n",
    "    'https://music.yandex.ru/genre/русский%20рэп/artists?page=9',\n",
    "    'https://music.yandex.ru/genre/русский%20рэп/artists?page=10'\n",
    "    'https://music.yandex.ru/genre/русский%20рэп/artists?page=11'\n",
    "    'https://music.yandex.ru/genre/русский%20рэп/artists?page=12',\n",
    "    'https://music.yandex.ru/genre/русский%20рэп/artists?page=13',\n",
    "    'https://music.yandex.ru/genre/русский%20рэп/artists?page=14'\n",
    "\n",
    "\n",
    "--- эстрада\n",
    "    'https://music.yandex.ru/genre/русская%20эстрада/artists',\n",
    "    'https://music.yandex.ru/genre/русская%20эстрада/artists?page=1',\n",
    "    'https://music.yandex.ru/genre/русская%20эстрада/artists?page=2',\n",
    "    'https://music.yandex.ru/genre/русская%20эстрада/artists?page=3',\n",
    "    'https://music.yandex.ru/genre/русская%20эстрада/artists?page=4',\n",
    "    'https://music.yandex.ru/genre/русская%20эстрада/artists?page=5',\n",
    "    'https://music.yandex.ru/genre/русская%20эстрада/artists?page=6',\n",
    " "
   ]
  },
  {
   "cell_type": "code",
   "execution_count": null,
   "metadata": {
    "colab": {
     "base_uri": "https://localhost:8080/"
    },
    "id": "Ez61O7xu9H7B",
    "outputId": "6e8aeb60-99ff-4216-beec-f6e778908e9b"
   },
   "outputs": [],
   "source": [
    "# with open('artist_data.txt', 'r', encoding='utf-8') as file:\n",
    "#     print(file.read())"
   ]
  }
 ],
 "metadata": {
  "colab": {
   "provenance": []
  },
  "kernelspec": {
   "display_name": "Python 3 (ipykernel)",
   "language": "python",
   "name": "python3"
  },
  "language_info": {
   "codemirror_mode": {
    "name": "ipython",
    "version": 3
   },
   "file_extension": ".py",
   "mimetype": "text/x-python",
   "name": "python",
   "nbconvert_exporter": "python",
   "pygments_lexer": "ipython3",
   "version": "3.11.2"
  }
 },
 "nbformat": 4,
 "nbformat_minor": 4
}
